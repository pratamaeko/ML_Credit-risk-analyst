{
 "cells": [
  {
   "cell_type": "code",
   "execution_count": 1,
   "metadata": {},
   "outputs": [],
   "source": [
    "#Pertama kita import dulu library yang akan digunakan\n",
    "import pandas as pd\n",
    "import numpy as np\n",
    "from sklearn.model_selection import train_test_split\n",
    "from sklearn.tree import DecisionTreeClassifier\n",
    "from sklearn.metrics import confusion_matrix, accuracy_score"
   ]
  },
  {
   "cell_type": "code",
   "execution_count": 2,
   "metadata": {},
   "outputs": [
    {
     "data": {
      "text/html": [
       "<div>\n",
       "<style scoped>\n",
       "    .dataframe tbody tr th:only-of-type {\n",
       "        vertical-align: middle;\n",
       "    }\n",
       "\n",
       "    .dataframe tbody tr th {\n",
       "        vertical-align: top;\n",
       "    }\n",
       "\n",
       "    .dataframe thead th {\n",
       "        text-align: right;\n",
       "    }\n",
       "</style>\n",
       "<table border=\"1\" class=\"dataframe\">\n",
       "  <thead>\n",
       "    <tr style=\"text-align: right;\">\n",
       "      <th></th>\n",
       "      <th>kode_kontrak</th>\n",
       "      <th>pendapatan_setahun_juta</th>\n",
       "      <th>kpr_aktif</th>\n",
       "      <th>durasi_pinjaman_bulan</th>\n",
       "      <th>jumlah_tanggungan</th>\n",
       "      <th>rata_rata_overdue</th>\n",
       "      <th>risk_rating</th>\n",
       "    </tr>\n",
       "  </thead>\n",
       "  <tbody>\n",
       "    <tr>\n",
       "      <th>0</th>\n",
       "      <td>AGR-000001</td>\n",
       "      <td>295</td>\n",
       "      <td>YA</td>\n",
       "      <td>48</td>\n",
       "      <td>5</td>\n",
       "      <td>61 - 90 days</td>\n",
       "      <td>4</td>\n",
       "    </tr>\n",
       "    <tr>\n",
       "      <th>1</th>\n",
       "      <td>AGR-000011</td>\n",
       "      <td>271</td>\n",
       "      <td>YA</td>\n",
       "      <td>36</td>\n",
       "      <td>5</td>\n",
       "      <td>61 - 90 days</td>\n",
       "      <td>4</td>\n",
       "    </tr>\n",
       "    <tr>\n",
       "      <th>2</th>\n",
       "      <td>AGR-000030</td>\n",
       "      <td>159</td>\n",
       "      <td>TIDAK</td>\n",
       "      <td>12</td>\n",
       "      <td>0</td>\n",
       "      <td>0 - 30 days</td>\n",
       "      <td>1</td>\n",
       "    </tr>\n",
       "    <tr>\n",
       "      <th>3</th>\n",
       "      <td>AGR-000043</td>\n",
       "      <td>210</td>\n",
       "      <td>YA</td>\n",
       "      <td>12</td>\n",
       "      <td>3</td>\n",
       "      <td>46 - 60 days</td>\n",
       "      <td>3</td>\n",
       "    </tr>\n",
       "    <tr>\n",
       "      <th>4</th>\n",
       "      <td>AGR-000049</td>\n",
       "      <td>165</td>\n",
       "      <td>TIDAK</td>\n",
       "      <td>36</td>\n",
       "      <td>0</td>\n",
       "      <td>31 - 45 days</td>\n",
       "      <td>2</td>\n",
       "    </tr>\n",
       "  </tbody>\n",
       "</table>\n",
       "</div>"
      ],
      "text/plain": [
       "  kode_kontrak  pendapatan_setahun_juta kpr_aktif  durasi_pinjaman_bulan  \\\n",
       "0   AGR-000001                      295        YA                     48   \n",
       "1   AGR-000011                      271        YA                     36   \n",
       "2   AGR-000030                      159     TIDAK                     12   \n",
       "3   AGR-000043                      210        YA                     12   \n",
       "4   AGR-000049                      165     TIDAK                     36   \n",
       "\n",
       "   jumlah_tanggungan rata_rata_overdue  risk_rating  \n",
       "0                  5      61 - 90 days            4  \n",
       "1                  5      61 - 90 days            4  \n",
       "2                  0       0 - 30 days            1  \n",
       "3                  3      46 - 60 days            3  \n",
       "4                  0      31 - 45 days            2  "
      ]
     },
     "execution_count": 2,
     "metadata": {},
     "output_type": "execute_result"
    }
   ],
   "source": [
    "#Lalu kita masukan dataset, kali ini saya meminjam dataset dari DQLab Academy\n",
    "url = \"https://academy.dqlab.id/dataset/credit_scoring_dqlab.xlsx\"\n",
    "df = pd.read_excel(url)\n",
    "df.head()"
   ]
  },
  {
   "cell_type": "code",
   "execution_count": 3,
   "metadata": {},
   "outputs": [
    {
     "data": {
      "text/html": [
       "<div>\n",
       "<style scoped>\n",
       "    .dataframe tbody tr th:only-of-type {\n",
       "        vertical-align: middle;\n",
       "    }\n",
       "\n",
       "    .dataframe tbody tr th {\n",
       "        vertical-align: top;\n",
       "    }\n",
       "\n",
       "    .dataframe thead th {\n",
       "        text-align: right;\n",
       "    }\n",
       "</style>\n",
       "<table border=\"1\" class=\"dataframe\">\n",
       "  <thead>\n",
       "    <tr style=\"text-align: right;\">\n",
       "      <th></th>\n",
       "      <th>pendapatan_setahun_juta</th>\n",
       "      <th>kpr_aktif</th>\n",
       "      <th>durasi_pinjaman_bulan</th>\n",
       "      <th>jumlah_tanggungan</th>\n",
       "      <th>risk_rating</th>\n",
       "    </tr>\n",
       "  </thead>\n",
       "  <tbody>\n",
       "    <tr>\n",
       "      <th>0</th>\n",
       "      <td>295</td>\n",
       "      <td>YA</td>\n",
       "      <td>48</td>\n",
       "      <td>5</td>\n",
       "      <td>4</td>\n",
       "    </tr>\n",
       "    <tr>\n",
       "      <th>1</th>\n",
       "      <td>271</td>\n",
       "      <td>YA</td>\n",
       "      <td>36</td>\n",
       "      <td>5</td>\n",
       "      <td>4</td>\n",
       "    </tr>\n",
       "    <tr>\n",
       "      <th>2</th>\n",
       "      <td>159</td>\n",
       "      <td>TIDAK</td>\n",
       "      <td>12</td>\n",
       "      <td>0</td>\n",
       "      <td>1</td>\n",
       "    </tr>\n",
       "    <tr>\n",
       "      <th>3</th>\n",
       "      <td>210</td>\n",
       "      <td>YA</td>\n",
       "      <td>12</td>\n",
       "      <td>3</td>\n",
       "      <td>3</td>\n",
       "    </tr>\n",
       "    <tr>\n",
       "      <th>4</th>\n",
       "      <td>165</td>\n",
       "      <td>TIDAK</td>\n",
       "      <td>36</td>\n",
       "      <td>0</td>\n",
       "      <td>2</td>\n",
       "    </tr>\n",
       "    <tr>\n",
       "      <th>...</th>\n",
       "      <td>...</td>\n",
       "      <td>...</td>\n",
       "      <td>...</td>\n",
       "      <td>...</td>\n",
       "      <td>...</td>\n",
       "    </tr>\n",
       "    <tr>\n",
       "      <th>895</th>\n",
       "      <td>112</td>\n",
       "      <td>YA</td>\n",
       "      <td>48</td>\n",
       "      <td>5</td>\n",
       "      <td>5</td>\n",
       "    </tr>\n",
       "    <tr>\n",
       "      <th>896</th>\n",
       "      <td>120</td>\n",
       "      <td>YA</td>\n",
       "      <td>48</td>\n",
       "      <td>2</td>\n",
       "      <td>3</td>\n",
       "    </tr>\n",
       "    <tr>\n",
       "      <th>897</th>\n",
       "      <td>166</td>\n",
       "      <td>TIDAK</td>\n",
       "      <td>24</td>\n",
       "      <td>2</td>\n",
       "      <td>1</td>\n",
       "    </tr>\n",
       "    <tr>\n",
       "      <th>898</th>\n",
       "      <td>196</td>\n",
       "      <td>TIDAK</td>\n",
       "      <td>48</td>\n",
       "      <td>0</td>\n",
       "      <td>2</td>\n",
       "    </tr>\n",
       "    <tr>\n",
       "      <th>899</th>\n",
       "      <td>204</td>\n",
       "      <td>TIDAK</td>\n",
       "      <td>24</td>\n",
       "      <td>2</td>\n",
       "      <td>1</td>\n",
       "    </tr>\n",
       "  </tbody>\n",
       "</table>\n",
       "<p>900 rows × 5 columns</p>\n",
       "</div>"
      ],
      "text/plain": [
       "     pendapatan_setahun_juta kpr_aktif  durasi_pinjaman_bulan  \\\n",
       "0                        295        YA                     48   \n",
       "1                        271        YA                     36   \n",
       "2                        159     TIDAK                     12   \n",
       "3                        210        YA                     12   \n",
       "4                        165     TIDAK                     36   \n",
       "..                       ...       ...                    ...   \n",
       "895                      112        YA                     48   \n",
       "896                      120        YA                     48   \n",
       "897                      166     TIDAK                     24   \n",
       "898                      196     TIDAK                     48   \n",
       "899                      204     TIDAK                     24   \n",
       "\n",
       "     jumlah_tanggungan  risk_rating  \n",
       "0                    5            4  \n",
       "1                    5            4  \n",
       "2                    0            1  \n",
       "3                    3            3  \n",
       "4                    0            2  \n",
       "..                 ...          ...  \n",
       "895                  5            5  \n",
       "896                  2            3  \n",
       "897                  2            1  \n",
       "898                  0            2  \n",
       "899                  2            1  \n",
       "\n",
       "[900 rows x 5 columns]"
      ]
     },
     "execution_count": 3,
     "metadata": {},
     "output_type": "execute_result"
    }
   ],
   "source": [
    "#Dari hasil pengamatan diatas, ada beberapa kolom yang tidak dibutuhkan, mari kita buang\n",
    "df = df.drop(['kode_kontrak', 'rata_rata_overdue'], axis=1)\n",
    "df"
   ]
  },
  {
   "cell_type": "code",
   "execution_count": 4,
   "metadata": {},
   "outputs": [
    {
     "data": {
      "text/html": [
       "<div>\n",
       "<style scoped>\n",
       "    .dataframe tbody tr th:only-of-type {\n",
       "        vertical-align: middle;\n",
       "    }\n",
       "\n",
       "    .dataframe tbody tr th {\n",
       "        vertical-align: top;\n",
       "    }\n",
       "\n",
       "    .dataframe thead th {\n",
       "        text-align: right;\n",
       "    }\n",
       "</style>\n",
       "<table border=\"1\" class=\"dataframe\">\n",
       "  <thead>\n",
       "    <tr style=\"text-align: right;\">\n",
       "      <th></th>\n",
       "      <th>pendapatan_setahun_juta</th>\n",
       "      <th>kpr_aktif</th>\n",
       "      <th>durasi_pinjaman_bulan</th>\n",
       "      <th>jumlah_tanggungan</th>\n",
       "      <th>risk_rating</th>\n",
       "    </tr>\n",
       "  </thead>\n",
       "  <tbody>\n",
       "    <tr>\n",
       "      <th>0</th>\n",
       "      <td>295</td>\n",
       "      <td>1</td>\n",
       "      <td>48</td>\n",
       "      <td>5</td>\n",
       "      <td>4</td>\n",
       "    </tr>\n",
       "    <tr>\n",
       "      <th>1</th>\n",
       "      <td>271</td>\n",
       "      <td>1</td>\n",
       "      <td>36</td>\n",
       "      <td>5</td>\n",
       "      <td>4</td>\n",
       "    </tr>\n",
       "    <tr>\n",
       "      <th>2</th>\n",
       "      <td>159</td>\n",
       "      <td>2</td>\n",
       "      <td>12</td>\n",
       "      <td>0</td>\n",
       "      <td>1</td>\n",
       "    </tr>\n",
       "    <tr>\n",
       "      <th>3</th>\n",
       "      <td>210</td>\n",
       "      <td>1</td>\n",
       "      <td>12</td>\n",
       "      <td>3</td>\n",
       "      <td>3</td>\n",
       "    </tr>\n",
       "    <tr>\n",
       "      <th>4</th>\n",
       "      <td>165</td>\n",
       "      <td>2</td>\n",
       "      <td>36</td>\n",
       "      <td>0</td>\n",
       "      <td>2</td>\n",
       "    </tr>\n",
       "  </tbody>\n",
       "</table>\n",
       "</div>"
      ],
      "text/plain": [
       "   pendapatan_setahun_juta  kpr_aktif  durasi_pinjaman_bulan  \\\n",
       "0                      295          1                     48   \n",
       "1                      271          1                     36   \n",
       "2                      159          2                     12   \n",
       "3                      210          1                     12   \n",
       "4                      165          2                     36   \n",
       "\n",
       "   jumlah_tanggungan  risk_rating  \n",
       "0                  5            4  \n",
       "1                  5            4  \n",
       "2                  0            1  \n",
       "3                  3            3  \n",
       "4                  0            2  "
      ]
     },
     "execution_count": 4,
     "metadata": {},
     "output_type": "execute_result"
    }
   ],
   "source": [
    "#Ada colom yang bertipe \"object\", mari kita ubah menjadi bilangan agar terbaca oleh Algoritma\n",
    "ubah_kpr = {'YA' : 1, 'TIDAK' : 2}\n",
    "df = df.replace({\"kpr_aktif\" : ubah_kpr})\n",
    "df.head()"
   ]
  },
  {
   "cell_type": "code",
   "execution_count": 5,
   "metadata": {},
   "outputs": [
    {
     "name": "stdout",
     "output_type": "stream",
     "text": [
      "<class 'pandas.core.frame.DataFrame'>\n",
      "RangeIndex: 900 entries, 0 to 899\n",
      "Data columns (total 5 columns):\n",
      " #   Column                   Non-Null Count  Dtype\n",
      "---  ------                   --------------  -----\n",
      " 0   pendapatan_setahun_juta  900 non-null    int64\n",
      " 1   kpr_aktif                900 non-null    int64\n",
      " 2   durasi_pinjaman_bulan    900 non-null    int64\n",
      " 3   jumlah_tanggungan        900 non-null    int64\n",
      " 4   risk_rating              900 non-null    int64\n",
      "dtypes: int64(5)\n",
      "memory usage: 35.3 KB\n"
     ]
    }
   ],
   "source": [
    "#Mari kita lihat lagi apakah data sudah benar-benar siap untuk dipakai\n",
    "df.info()"
   ]
  },
  {
   "cell_type": "code",
   "execution_count": 6,
   "metadata": {},
   "outputs": [],
   "source": [
    "#Dari keterangan diatas, data sudah bersih dan siap dipakai, mari kita pisahkan antara Data Feature dan Data Target\n",
    "x = df.drop('risk_rating', axis=1)\n",
    "y = df['risk_rating']"
   ]
  },
  {
   "cell_type": "code",
   "execution_count": 7,
   "metadata": {},
   "outputs": [],
   "source": [
    "#Setelah itu, kita bagi lagi antara data yang akan dilatih, dan data yang akan di test nantinya\n",
    "x_train, x_test, y_train, y_test = train_test_split(x, y, test_size=0.10)"
   ]
  },
  {
   "cell_type": "code",
   "execution_count": 8,
   "metadata": {},
   "outputs": [],
   "source": [
    "#Mari kita masukkan model yang akan dipakai, kali ini saya menggunakan model Decision Tree\n",
    "DTree = DecisionTreeClassifier()"
   ]
  },
  {
   "cell_type": "code",
   "execution_count": 9,
   "metadata": {},
   "outputs": [
    {
     "data": {
      "text/plain": [
       "DecisionTreeClassifier(ccp_alpha=0.0, class_weight=None, criterion='gini',\n",
       "                       max_depth=None, max_features=None, max_leaf_nodes=None,\n",
       "                       min_impurity_decrease=0.0, min_impurity_split=None,\n",
       "                       min_samples_leaf=1, min_samples_split=2,\n",
       "                       min_weight_fraction_leaf=0.0, presort='deprecated',\n",
       "                       random_state=None, splitter='best')"
      ]
     },
     "execution_count": 9,
     "metadata": {},
     "output_type": "execute_result"
    }
   ],
   "source": [
    "#Melatih Model\n",
    "DTree.fit(x_train, y_train)"
   ]
  },
  {
   "cell_type": "code",
   "execution_count": 10,
   "metadata": {},
   "outputs": [],
   "source": [
    "#Memprediksi Data Test\n",
    "hasil_prediksi = DTree.predict(x_test)"
   ]
  },
  {
   "cell_type": "code",
   "execution_count": 11,
   "metadata": {},
   "outputs": [
    {
     "data": {
      "text/plain": [
       "array([[15,  3,  0,  0,  0],\n",
       "       [ 7, 15,  0,  0,  0],\n",
       "       [ 0,  1, 28,  0,  0],\n",
       "       [ 0,  0,  0, 10,  1],\n",
       "       [ 0,  2,  0,  1,  7]], dtype=int64)"
      ]
     },
     "execution_count": 11,
     "metadata": {},
     "output_type": "execute_result"
    }
   ],
   "source": [
    "#Melihat perbandingan antara hasil prediksi data test dan data asli\n",
    "confusion_matrix(y_test, hasil_prediksi)"
   ]
  },
  {
   "cell_type": "code",
   "execution_count": 12,
   "metadata": {},
   "outputs": [
    {
     "data": {
      "text/plain": [
       "0.8333333333333334"
      ]
     },
     "execution_count": 12,
     "metadata": {},
     "output_type": "execute_result"
    }
   ],
   "source": [
    "#Melihat Score data Test\n",
    "accuracy_score(y_test, hasil_prediksi)"
   ]
  },
  {
   "cell_type": "markdown",
   "metadata": {},
   "source": [
    "Terlihat bahwa Skor akurasi prediksi kita adalah sebesar 83%"
   ]
  }
 ],
 "metadata": {
  "kernelspec": {
   "display_name": "Python 3",
   "language": "python",
   "name": "python3"
  },
  "language_info": {
   "codemirror_mode": {
    "name": "ipython",
    "version": 3
   },
   "file_extension": ".py",
   "mimetype": "text/x-python",
   "name": "python",
   "nbconvert_exporter": "python",
   "pygments_lexer": "ipython3",
   "version": "3.8.3rc1"
  }
 },
 "nbformat": 4,
 "nbformat_minor": 4
}
