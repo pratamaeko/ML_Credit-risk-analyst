{
 "cells": [
  {
   "cell_type": "code",
   "execution_count": 1,
   "metadata": {},
   "outputs": [
    {
     "name": "stderr",
     "output_type": "stream",
     "text": [
      "Warning message:\n",
      "\"package 'C50' was built under R version 3.6.3\"\n",
      "Warning message:\n",
      "\"package 'openxlsx' was built under R version 3.6.3\"\n",
      "Warning message:\n",
      "\"package 'reshape2' was built under R version 3.6.3\"\n"
     ]
    }
   ],
   "source": [
    "#pertama kita masukkan library yang akan digunakan\n",
    "library(C50)\n",
    "library(openxlsx)\n",
    "library(reshape2)"
   ]
  },
  {
   "cell_type": "code",
   "execution_count": 2,
   "metadata": {},
   "outputs": [
    {
     "data": {
      "text/html": [
       "<table>\n",
       "<caption>A data.frame: 6 × 7</caption>\n",
       "<thead>\n",
       "\t<tr><th></th><th scope=col>kode_kontrak</th><th scope=col>pendapatan_setahun_juta</th><th scope=col>kpr_aktif</th><th scope=col>durasi_pinjaman_bulan</th><th scope=col>jumlah_tanggungan</th><th scope=col>rata_rata_overdue</th><th scope=col>risk_rating</th></tr>\n",
       "\t<tr><th></th><th scope=col>&lt;chr&gt;</th><th scope=col>&lt;dbl&gt;</th><th scope=col>&lt;chr&gt;</th><th scope=col>&lt;dbl&gt;</th><th scope=col>&lt;dbl&gt;</th><th scope=col>&lt;chr&gt;</th><th scope=col>&lt;dbl&gt;</th></tr>\n",
       "</thead>\n",
       "<tbody>\n",
       "\t<tr><th scope=row>1</th><td>AGR-000001</td><td>295</td><td>YA   </td><td>48</td><td>5</td><td>61 - 90 days</td><td>4</td></tr>\n",
       "\t<tr><th scope=row>2</th><td>AGR-000011</td><td>271</td><td>YA   </td><td>36</td><td>5</td><td>61 - 90 days</td><td>4</td></tr>\n",
       "\t<tr><th scope=row>3</th><td>AGR-000030</td><td>159</td><td>TIDAK</td><td>12</td><td>0</td><td>0 - 30 days </td><td>1</td></tr>\n",
       "\t<tr><th scope=row>4</th><td>AGR-000043</td><td>210</td><td>YA   </td><td>12</td><td>3</td><td>46 - 60 days</td><td>3</td></tr>\n",
       "\t<tr><th scope=row>5</th><td>AGR-000049</td><td>165</td><td>TIDAK</td><td>36</td><td>0</td><td>31 - 45 days</td><td>2</td></tr>\n",
       "\t<tr><th scope=row>6</th><td>AGR-000063</td><td>220</td><td>TIDAK</td><td>24</td><td>5</td><td>0 - 30 days </td><td>1</td></tr>\n",
       "</tbody>\n",
       "</table>\n"
      ],
      "text/latex": [
       "A data.frame: 6 × 7\n",
       "\\begin{tabular}{r|lllllll}\n",
       "  & kode\\_kontrak & pendapatan\\_setahun\\_juta & kpr\\_aktif & durasi\\_pinjaman\\_bulan & jumlah\\_tanggungan & rata\\_rata\\_overdue & risk\\_rating\\\\\n",
       "  & <chr> & <dbl> & <chr> & <dbl> & <dbl> & <chr> & <dbl>\\\\\n",
       "\\hline\n",
       "\t1 & AGR-000001 & 295 & YA    & 48 & 5 & 61 - 90 days & 4\\\\\n",
       "\t2 & AGR-000011 & 271 & YA    & 36 & 5 & 61 - 90 days & 4\\\\\n",
       "\t3 & AGR-000030 & 159 & TIDAK & 12 & 0 & 0 - 30 days  & 1\\\\\n",
       "\t4 & AGR-000043 & 210 & YA    & 12 & 3 & 46 - 60 days & 3\\\\\n",
       "\t5 & AGR-000049 & 165 & TIDAK & 36 & 0 & 31 - 45 days & 2\\\\\n",
       "\t6 & AGR-000063 & 220 & TIDAK & 24 & 5 & 0 - 30 days  & 1\\\\\n",
       "\\end{tabular}\n"
      ],
      "text/markdown": [
       "\n",
       "A data.frame: 6 × 7\n",
       "\n",
       "| <!--/--> | kode_kontrak &lt;chr&gt; | pendapatan_setahun_juta &lt;dbl&gt; | kpr_aktif &lt;chr&gt; | durasi_pinjaman_bulan &lt;dbl&gt; | jumlah_tanggungan &lt;dbl&gt; | rata_rata_overdue &lt;chr&gt; | risk_rating &lt;dbl&gt; |\n",
       "|---|---|---|---|---|---|---|---|\n",
       "| 1 | AGR-000001 | 295 | YA    | 48 | 5 | 61 - 90 days | 4 |\n",
       "| 2 | AGR-000011 | 271 | YA    | 36 | 5 | 61 - 90 days | 4 |\n",
       "| 3 | AGR-000030 | 159 | TIDAK | 12 | 0 | 0 - 30 days  | 1 |\n",
       "| 4 | AGR-000043 | 210 | YA    | 12 | 3 | 46 - 60 days | 3 |\n",
       "| 5 | AGR-000049 | 165 | TIDAK | 36 | 0 | 31 - 45 days | 2 |\n",
       "| 6 | AGR-000063 | 220 | TIDAK | 24 | 5 | 0 - 30 days  | 1 |\n",
       "\n"
      ],
      "text/plain": [
       "  kode_kontrak pendapatan_setahun_juta kpr_aktif durasi_pinjaman_bulan\n",
       "1 AGR-000001   295                     YA        48                   \n",
       "2 AGR-000011   271                     YA        36                   \n",
       "3 AGR-000030   159                     TIDAK     12                   \n",
       "4 AGR-000043   210                     YA        12                   \n",
       "5 AGR-000049   165                     TIDAK     36                   \n",
       "6 AGR-000063   220                     TIDAK     24                   \n",
       "  jumlah_tanggungan rata_rata_overdue risk_rating\n",
       "1 5                 61 - 90 days      4          \n",
       "2 5                 61 - 90 days      4          \n",
       "3 0                 0 - 30 days       1          \n",
       "4 3                 46 - 60 days      3          \n",
       "5 0                 31 - 45 days      2          \n",
       "6 5                 0 - 30 days       1          "
      ]
     },
     "metadata": {},
     "output_type": "display_data"
    }
   ],
   "source": [
    "#lalu kita import data, kali ini saya meminjam dataset dari DQLab Academy\n",
    "dataCredit <- read.xlsx(xlsxFile = \"https://academy.dqlab.id/dataset/credit_scoring_dqlab.xlsx\")\n",
    "head(dataCredit)"
   ]
  },
  {
   "cell_type": "code",
   "execution_count": 3,
   "metadata": {},
   "outputs": [
    {
     "name": "stdout",
     "output_type": "stream",
     "text": [
      "'data.frame':\t900 obs. of  4 variables:\n",
      " $ durasi_pinjaman_bulan  : num  48 36 12 12 36 24 36 48 48 36 ...\n",
      " $ jumlah_tanggungan      : num  5 5 0 3 0 5 3 3 5 6 ...\n",
      " $ kpr_aktif              : chr  \"YA\" \"YA\" \"TIDAK\" \"YA\" ...\n",
      " $ pendapatan_setahun_juta: num  295 271 159 210 165 220 70 88 163 100 ...\n"
     ]
    }
   ],
   "source": [
    "#Mempersiapkan class dan input variables \n",
    "dataCredit$risk_rating <- as.factor(dataCredit$risk_rating)\n",
    "input_kolom <- c(\"durasi_pinjaman_bulan\",\"jumlah_tanggungan\",\"kpr_aktif\",\"pendapatan_setahun_juta\")\n",
    "datafeed <- dataCredit[input_kolom]\n",
    "str(datafeed)"
   ]
  },
  {
   "cell_type": "code",
   "execution_count": 4,
   "metadata": {},
   "outputs": [],
   "source": [
    "#Mempersiapkan training dan testing set\n",
    "set.seed(100) #untuk menyeragamkan hasil random antar tiap komputer\n",
    "xtrain_value <- sample(900, 800)"
   ]
  },
  {
   "cell_type": "code",
   "execution_count": 5,
   "metadata": {},
   "outputs": [],
   "source": [
    "#Membuat training set dan testing set\n",
    "xtrain <- datafeed[xtrain_value,]\n",
    "class_xtrain <- dataCredit[xtrain_value,]$risk_rating\n",
    "xtest <- datafeed[-xtrain_value,]"
   ]
  },
  {
   "cell_type": "code",
   "execution_count": 6,
   "metadata": {},
   "outputs": [
    {
     "data": {
      "text/plain": [
       "\n",
       "Call:\n",
       "C5.0.default(x = xtrain, y = class_xtrain, control = C5.0Control(label =\n",
       " \"Risk Rating\"))\n",
       "\n",
       "\n",
       "C5.0 [Release 2.07 GPL Edition]  \tThu Jul 02 17:25:52 2020\n",
       "-------------------------------\n",
       "\n",
       "Class specified by attribute `Risk Rating'\n",
       "\n",
       "Read 800 cases (5 attributes) from undefined.data\n",
       "\n",
       "Decision tree:\n",
       "\n",
       "kpr_aktif = YA:\n",
       ":...jumlah_tanggungan <= 4: 3 (255/4)\n",
       ":   jumlah_tanggungan > 4:\n",
       ":   :...pendapatan_setahun_juta > 248: 4 (52)\n",
       ":       pendapatan_setahun_juta <= 248:\n",
       ":       :...durasi_pinjaman_bulan <= 24: 4 (71/17)\n",
       ":           durasi_pinjaman_bulan > 24: 5 (72/4)\n",
       "kpr_aktif = TIDAK:\n",
       ":...pendapatan_setahun_juta <= 95: 2 (36/7)\n",
       "    pendapatan_setahun_juta > 95:\n",
       "    :...durasi_pinjaman_bulan > 36: 2 (37/4)\n",
       "        durasi_pinjaman_bulan <= 36:\n",
       "        :...pendapatan_setahun_juta > 201: 1 (50)\n",
       "            pendapatan_setahun_juta <= 201:\n",
       "            :...durasi_pinjaman_bulan > 24: 2 (73/33)\n",
       "                durasi_pinjaman_bulan <= 24:\n",
       "                :...jumlah_tanggungan > 2:\n",
       "                    :...durasi_pinjaman_bulan <= 12:\n",
       "                    :   :...pendapatan_setahun_juta <= 177: 1 (2)\n",
       "                    :   :   pendapatan_setahun_juta > 177: 2 (2)\n",
       "                    :   durasi_pinjaman_bulan > 12:\n",
       "                    :   :...jumlah_tanggungan <= 5: 2 (9/2)\n",
       "                    :       jumlah_tanggungan > 5: 1 (2)\n",
       "                    jumlah_tanggungan <= 2:\n",
       "                    :...pendapatan_setahun_juta > 148: 1 (78/8)\n",
       "                        pendapatan_setahun_juta <= 148:\n",
       "                        :...jumlah_tanggungan <= 0: 1 (23/4)\n",
       "                            jumlah_tanggungan > 0:\n",
       "                            :...pendapatan_setahun_juta <= 110: 2 (10)\n",
       "                                pendapatan_setahun_juta > 110:\n",
       "                                :...durasi_pinjaman_bulan <= 12: 1 (14/2)\n",
       "                                    durasi_pinjaman_bulan > 12: 2 (14/4)\n",
       "\n",
       "\n",
       "Evaluation on training data (800 cases):\n",
       "\n",
       "\t    Decision Tree   \n",
       "\t  ----------------  \n",
       "\t  Size      Errors  \n",
       "\n",
       "\t    17   89(11.1%)   <<\n",
       "\n",
       "\n",
       "\t   (a)   (b)   (c)   (d)   (e)    <-classified as\n",
       "\t  ----  ----  ----  ----  ----\n",
       "\t   155    46     2                (a): class 1\n",
       "\t    14   131                 1    (b): class 2\n",
       "\t           2   251                (c): class 3\n",
       "\t                 2   106     3    (d): class 4\n",
       "\t           2          17    68    (e): class 5\n",
       "\n",
       "\n",
       "\tAttribute usage:\n",
       "\n",
       "\t100.00%\tkpr_aktif\n",
       "\t 75.50%\tjumlah_tanggungan\n",
       "\t 68.13%\tpendapatan_setahun_juta\n",
       "\t 57.13%\tdurasi_pinjaman_bulan\n",
       "\n",
       "\n",
       "Time: 0.0 secs\n"
      ]
     },
     "metadata": {},
     "output_type": "display_data"
    }
   ],
   "source": [
    "#menghasilkan model train dan menampilkan summary\n",
    "model_risk_rating <- C5.0(xtrain, class_xtrain, control = C5.0Control(label=\"Risk Rating\"))\n",
    "summary(model_risk_rating)"
   ]
  },
  {
   "cell_type": "code",
   "execution_count": 7,
   "metadata": {},
   "outputs": [
    {
     "data": {
      "text/html": [
       "<style>\n",
       ".dl-inline {width: auto; margin:0; padding: 0}\n",
       ".dl-inline>dt, .dl-inline>dd {float: none; width: auto; display: inline-block}\n",
       ".dl-inline>dt::after {content: \":\\0020\"; padding-right: .5ex}\n",
       ".dl-inline>dt:not(:first-of-type) {padding-left: .5ex}\n",
       "</style><dl class=dl-inline><dt>1</dt><dd>20</dd><dt>2</dt><dd>17</dd><dt>3</dt><dd>38</dd><dt>4</dt><dd>9</dd><dt>5</dt><dd>16</dd></dl>\n"
      ],
      "text/latex": [
       "\\begin{description*}\n",
       "\\item[1] 20\n",
       "\\item[2] 17\n",
       "\\item[3] 38\n",
       "\\item[4] 9\n",
       "\\item[5] 16\n",
       "\\end{description*}\n"
      ],
      "text/markdown": [
       "1\n",
       ":   202\n",
       ":   173\n",
       ":   384\n",
       ":   95\n",
       ":   16\n",
       "\n"
      ],
      "text/plain": [
       " 1  2  3  4  5 \n",
       "20 17 38  9 16 "
      ]
     },
     "metadata": {},
     "output_type": "display_data"
    }
   ],
   "source": [
    "#model sudah belajar, mari mulai kita predict\n",
    "hasil_predik <- predict(model_risk_rating, xtest)\n",
    "summary(hasil_predik)"
   ]
  },
  {
   "cell_type": "code",
   "execution_count": 8,
   "metadata": {},
   "outputs": [],
   "source": [
    "#masukkan hasil prediksi ke dalam dataframe xtest\n",
    "xtest$risk_rating <- dataCredit[-xtrain_value,]$risk_rating\n",
    "xtest$hasil_prediksi <- hasil_predik"
   ]
  },
  {
   "cell_type": "code",
   "execution_count": 9,
   "metadata": {},
   "outputs": [
    {
     "name": "stderr",
     "output_type": "stream",
     "text": [
      "Using hasil_prediksi as value column: use value.var to override.\n",
      "\n",
      "Aggregation function missing: defaulting to length\n",
      "\n"
     ]
    },
    {
     "data": {
      "text/html": [
       "<table>\n",
       "<caption>A data.frame: 5 × 6</caption>\n",
       "<thead>\n",
       "\t<tr><th scope=col>hasil_prediksi</th><th scope=col>1</th><th scope=col>2</th><th scope=col>3</th><th scope=col>4</th><th scope=col>5</th></tr>\n",
       "\t<tr><th scope=col>&lt;fct&gt;</th><th scope=col>&lt;int&gt;</th><th scope=col>&lt;int&gt;</th><th scope=col>&lt;int&gt;</th><th scope=col>&lt;int&gt;</th><th scope=col>&lt;int&gt;</th></tr>\n",
       "</thead>\n",
       "<tbody>\n",
       "\t<tr><td>1</td><td>20</td><td> 0</td><td> 0</td><td>0</td><td> 0</td></tr>\n",
       "\t<tr><td>2</td><td> 4</td><td>13</td><td> 0</td><td>0</td><td> 0</td></tr>\n",
       "\t<tr><td>3</td><td> 0</td><td> 0</td><td>38</td><td>0</td><td> 0</td></tr>\n",
       "\t<tr><td>4</td><td> 0</td><td> 0</td><td> 0</td><td>9</td><td> 0</td></tr>\n",
       "\t<tr><td>5</td><td> 0</td><td> 0</td><td> 0</td><td>0</td><td>16</td></tr>\n",
       "</tbody>\n",
       "</table>\n"
      ],
      "text/latex": [
       "A data.frame: 5 × 6\n",
       "\\begin{tabular}{llllll}\n",
       " hasil\\_prediksi & 1 & 2 & 3 & 4 & 5\\\\\n",
       " <fct> & <int> & <int> & <int> & <int> & <int>\\\\\n",
       "\\hline\n",
       "\t 1 & 20 &  0 &  0 & 0 &  0\\\\\n",
       "\t 2 &  4 & 13 &  0 & 0 &  0\\\\\n",
       "\t 3 &  0 &  0 & 38 & 0 &  0\\\\\n",
       "\t 4 &  0 &  0 &  0 & 9 &  0\\\\\n",
       "\t 5 &  0 &  0 &  0 & 0 & 16\\\\\n",
       "\\end{tabular}\n"
      ],
      "text/markdown": [
       "\n",
       "A data.frame: 5 × 6\n",
       "\n",
       "| hasil_prediksi &lt;fct&gt; | 1 &lt;int&gt; | 2 &lt;int&gt; | 3 &lt;int&gt; | 4 &lt;int&gt; | 5 &lt;int&gt; |\n",
       "|---|---|---|---|---|---|\n",
       "| 1 | 20 |  0 |  0 | 0 |  0 |\n",
       "| 2 |  4 | 13 |  0 | 0 |  0 |\n",
       "| 3 |  0 |  0 | 38 | 0 |  0 |\n",
       "| 4 |  0 |  0 |  0 | 9 |  0 |\n",
       "| 5 |  0 |  0 |  0 | 0 | 16 |\n",
       "\n"
      ],
      "text/plain": [
       "  hasil_prediksi 1  2  3  4 5 \n",
       "1 1              20  0  0 0  0\n",
       "2 2               4 13  0 0  0\n",
       "3 3               0  0 38 0  0\n",
       "4 4               0  0  0 9  0\n",
       "5 5               0  0  0 0 16"
      ]
     },
     "metadata": {},
     "output_type": "display_data"
    }
   ],
   "source": [
    "#melihat perbandingan data dengan confusion matrix\n",
    "dcast(hasil_prediksi ~ risk_rating, data=xtest)"
   ]
  },
  {
   "cell_type": "code",
   "execution_count": 10,
   "metadata": {},
   "outputs": [
    {
     "data": {
      "text/html": [
       "96"
      ],
      "text/latex": [
       "96"
      ],
      "text/markdown": [
       "96"
      ],
      "text/plain": [
       "[1] 96"
      ]
     },
     "metadata": {},
     "output_type": "display_data"
    }
   ],
   "source": [
    "#menghitung berapa banyak prediksi data yang benar\n",
    "nrow(xtest[xtest$risk_rating == xtest$hasil_prediksi,])"
   ]
  },
  {
   "cell_type": "markdown",
   "metadata": {},
   "source": [
    "### Terlihat bahwa jumlah data yang benar diprediksi adalah 96 dari 100 data test, maka akurasi model machine learning kita adalah sebesar 96%"
   ]
  }
 ],
 "metadata": {
  "kernelspec": {
   "display_name": "R",
   "language": "R",
   "name": "ir"
  },
  "language_info": {
   "codemirror_mode": "r",
   "file_extension": ".r",
   "mimetype": "text/x-r-source",
   "name": "R",
   "pygments_lexer": "r",
   "version": "3.6.1"
  }
 },
 "nbformat": 4,
 "nbformat_minor": 4
}
